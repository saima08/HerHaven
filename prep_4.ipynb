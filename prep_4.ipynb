{
  "nbformat": 4,
  "nbformat_minor": 0,
  "metadata": {
    "colab": {
      "provenance": [],
      "authorship_tag": "ABX9TyPFWRl0dKSgBsQ2kNJQKyu6",
      "include_colab_link": true
    },
    "kernelspec": {
      "name": "python3",
      "display_name": "Python 3"
    },
    "language_info": {
      "name": "python"
    }
  },
  "cells": [
    {
      "cell_type": "markdown",
      "metadata": {
        "id": "view-in-github",
        "colab_type": "text"
      },
      "source": [
        "<a href=\"https://colab.research.google.com/github/saima08/HerHaven/blob/main/prep_4.ipynb\" target=\"_parent\"><img src=\"https://colab.research.google.com/assets/colab-badge.svg\" alt=\"Open In Colab\"/></a>"
      ]
    },
    {
      "cell_type": "markdown",
      "source": [
        "SIR HAMZA CLASS-6\n"
      ],
      "metadata": {
        "id": "cLFE8Yip0708"
      }
    },
    {
      "cell_type": "code",
      "source": [
        "#DICTIONARY\n",
        "users ={\n",
        "    \"username\": \"Saima\",\n",
        "    \"age\": 29,\n",
        "    \"city\": \"karachi\",\n",
        "}\n",
        "print(users[\"city\"])\n",
        "print(users[\"username\"])\n",
        "print(users[\"age\"])\n",
        "\n",
        "\n",
        "\n",
        "users[\"username\"] = \"Farah\"\n",
        "print(users[\"username\"])\n",
        "\n",
        "users[\"age\"] = 33\n",
        "print(users[\"age\"])\n",
        "\n",
        "users[\"city\"] = \"NewYark\"\n",
        "print(users[\"city\"])\n",
        "\n",
        "users[\"country\"] = \"Pakistan\"\n",
        "print(users[\"country\"], users[\"city\"])"
      ],
      "metadata": {
        "colab": {
          "base_uri": "https://localhost:8080/"
        },
        "id": "_qmXbh3T1Dxs",
        "outputId": "23960036-daf2-4f3f-9c2b-93cca4d681a3"
      },
      "execution_count": null,
      "outputs": [
        {
          "output_type": "stream",
          "name": "stdout",
          "text": [
            "karachi\n",
            "Saima\n",
            "29\n",
            "Farah\n",
            "33\n",
            "NewYark\n",
            "Pakistan NewYark\n"
          ]
        }
      ]
    },
    {
      "cell_type": "code",
      "source": [
        "# LOOP\n",
        "\n",
        "#for variable name in  (range):\n",
        "for i in range(1,6):\n",
        "  print(i)\n",
        "\n",
        "\n",
        "students =[\"Ali\",\"Saba\",\"Sara\",\"Noor\",\"Saima\",\"Nesha\",\"Neeha\"]\n",
        "for students in students:\n",
        "  print(students)\n",
        "\n",
        "fruits=[\"anar\",\"kela\",\"rasberry\",\"tarbooz\",\"malta\"]\n",
        "for fruits in fruits:\n",
        "  print(fruits)\n",
        "\n",
        "alphabets =[\"a\",\"b\",\"c\",\"d\",\"e\",\"f\"]\n",
        "for alphabets in alphabets:\n",
        "  print(alphabets)\n"
      ],
      "metadata": {
        "colab": {
          "base_uri": "https://localhost:8080/"
        },
        "id": "H4rBD98G56Jv",
        "outputId": "4240f44b-ea87-4083-9942-fac94ca1662c"
      },
      "execution_count": null,
      "outputs": [
        {
          "output_type": "stream",
          "name": "stdout",
          "text": [
            "1\n",
            "2\n",
            "3\n",
            "4\n",
            "5\n",
            "Ali\n",
            "Saba\n",
            "Sara\n",
            "Noor\n",
            "Saima\n",
            "Nesha\n",
            "Neeha\n",
            "anar\n",
            "kela\n",
            "rasberry\n",
            "tarbooz\n",
            "malta\n",
            "a\n",
            "b\n",
            "c\n",
            "d\n",
            "e\n",
            "f\n"
          ]
        }
      ]
    },
    {
      "cell_type": "code",
      "source": [
        "#GUESSING GAME\n",
        "\n",
        "correct_number = 6\n",
        "guess =0\n",
        "while_guess != correct_number:"
      ],
      "metadata": {
        "id": "4_RZKTlf_B3b"
      },
      "execution_count": null,
      "outputs": []
    },
    {
      "cell_type": "markdown",
      "source": [],
      "metadata": {
        "id": "Pum8Hwrc076I"
      }
    }
  ]
}